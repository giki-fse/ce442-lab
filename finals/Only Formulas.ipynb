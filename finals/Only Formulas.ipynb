{
 "cells": [
  {
   "cell_type": "markdown",
   "metadata": {},
   "source": [
    "## Lab 7: Numerical Differentiation and Integration"
   ]
  },
  {
   "cell_type": "markdown",
   "metadata": {},
   "source": [
    "### Numerical Differentiation Techniques\n",
    "\n",
    "#### 1. Forward Difference (n+1 formula)\n",
    "\n",
    "$$\n",
    "f'(x) \\approx \\frac{f(x+h) - f(x)}{h}\n",
    "$$\n",
    "\n",
    "#### 2. Three-Point Formula\n",
    "\n",
    "$$\n",
    "f'(x) \\approx \\frac{f(x+h) - f(x-h)}{2h}\n",
    "$$\n"
   ]
  },
  {
   "cell_type": "markdown",
   "metadata": {},
   "source": [
    "### Numerical Integration: Trapezoidal Rule\n",
    "\n",
    "$$\n",
    "I \\approx \\int_a^b f(x) \\, dx \\approx \\frac{h}{2} \\left[ f(a) + 2 \\sum_{i=1}^{n-1} f(x_i) + f(b) \\right]\n",
    "$$\n"
   ]
  },
  {
   "cell_type": "markdown",
   "metadata": {},
   "source": [
    "## Lab 8: Initial-Value Problems for Ordinary Differential Equations: Euler’s Method and Runge Kutta Method"
   ]
  },
  {
   "cell_type": "markdown",
   "metadata": {},
   "source": [
    "### Euler's Method\n",
    "\n",
    "$$\n",
    "\\frac{dy}{dx} = f(x, y), \\quad y(x_0) = y_0\n",
    "$$\n",
    "\n",
    "   - Update the solution:\n",
    "     $$\n",
    "     y_{n+1} = y_n + h \\cdot f(x_n, y_n)\n",
    "     $$\n",
    "   - Advance to the next step:\n",
    "     $$\n",
    "     x_{n+1} = x_n + h\n",
    "     $$\n"
   ]
  },
  {
   "cell_type": "markdown",
   "metadata": {},
   "source": [
    "### Runge-Kutta 4th Order Method (RK4)\n",
    "\n",
    "$$\n",
    "\\frac{dy}{dx} = f(x, y), \\quad y(x_0) = y_0\n",
    "$$\n",
    "\n",
    " - Compute the intermediate slopes:\n",
    "     - $k_1 = f(x_n, y_n)$\n",
    "     - $k_2 = f\\left(x_n + \\frac{h}{2}, y_n + \\frac{h}{2}k_1\\right)$\n",
    "     - $k_3 = f\\left(x_n + \\frac{h}{2}, y_n + \\frac{h}{2}k_2\\right)$\n",
    "     - $k_4 = f(x_n + h, y_n + hk_3)$\n",
    "   - Update the solution:\n",
    "     $$\n",
    "     y_{n+1} = y_n + \\frac{h}{6}(k_1 + 2k_2 + 2k_3 + k_4)\n",
    "     $$\n",
    "   - Advance to the next step:\n",
    "     $$\n",
    "     x_{n+1} = x_n + h\n",
    "     $$\n"
   ]
  },
  {
   "cell_type": "markdown",
   "metadata": {},
   "source": [
    "## Lab 9: Direct Methods for Solving Linear Systems​"
   ]
  },
  {
   "cell_type": "markdown",
   "metadata": {},
   "source": [
    "\n",
    "$$\n",
    "Ax = b\n",
    "$$\n"
   ]
  },
  {
   "cell_type": "markdown",
   "metadata": {},
   "source": [
    "### Matrix Inversion Method for Solving Linear Systems\n",
    "\n",
    "$$\n",
    "x = A^{-1}b\n",
    "$$\n"
   ]
  },
  {
   "cell_type": "markdown",
   "metadata": {},
   "source": [
    "### Gaussian Elimination Method\n",
    "\n",
    "#### Steps Involved in Gaussian Elimination:\n",
    "\n",
    "##### 1. Forward Elimination:\n",
    "- Use elementary row operations to transform the matrix into an upper triangular form.\n",
    "- Eliminate the elements below the main diagonal (i.e., make all elements below the pivot to zero).\n",
    "\n",
    "##### 2. Back Substitution:\n",
    "- Once the matrix is in upper triangular form, solve for the unknowns starting from the last row and moving upward."
   ]
  },
  {
   "cell_type": "markdown",
   "metadata": {},
   "source": [
    "### Gaussian Elimination with Backward Substitution (Without Pivoting)\n",
    "\n",
    "#### Steps Involved\n",
    "\n",
    "##### 1. **Forward Elimination**:\n",
    "- The goal of forward elimination is to convert the system of equations into an **upper triangular matrix**.\n",
    "- This is achieved by using elementary row operations to make the elements below the main diagonal zero.\n",
    "\n",
    "For a system $Ax = b$, we modify the augmented matrix $[A|b]$ in the following steps:\n",
    "- Start with the first row and use it to eliminate the values below the first element (pivot).\n",
    "- Move to the second row, use it to eliminate the value below it, and so on.\n",
    "\n",
    "##### 2. **Back Substitution**:\n",
    "- After forward elimination, the matrix is in upper triangular form.\n",
    "- The solution can be found by starting from the last row and working upwards.\n",
    "- Solve for the unknowns starting from the last equation, and then substitute those values into the previous equations to find the other unknowns.\n"
   ]
  },
  {
   "cell_type": "markdown",
   "metadata": {},
   "source": [
    "### LU Factorization and Solving a System of Linear Equations\n",
    "\n",
    "#### Steps for LU Factorization and Solving $Ax = b$:\n",
    "\n",
    "##### 1. LU Decomposition:\n",
    "$$\n",
    "A = LU\n",
    "$$\n",
    "\n",
    "$$\n",
    "LUx = b\n",
    "$$\n",
    "\n",
    "$$\n",
    "Ux = y\n",
    "$$\n",
    "\n",
    "\n",
    "##### 2. Forward Substitution (Solving $Ly = b$)\n",
    "\n",
    "##### 3. Backward Substitution (Solving $Ux = y$)"
   ]
  },
  {
   "cell_type": "markdown",
   "metadata": {},
   "source": [
    "## Lab 10: Iterative Techniques in Matrix Algebra"
   ]
  },
  {
   "cell_type": "markdown",
   "metadata": {},
   "source": [
    "### Jacobi Method for Solving Linear Systems\n",
    "\n",
    "$$\n",
    "x_i^{(k+1)} = \\frac{b_i - \\sum_{j \\neq i} A_{ij} \\cdot x_j^{(k)}}{A_{ii}}\n",
    "$$\n",
    "\n",
    "#### Convergence Criterion\n",
    "\n",
    "$$\n",
    "\\| x^{(k+1)} - x^{(k)} \\|_{\\infty} < \\text{tol}\n",
    "$$\n"
   ]
  },
  {
   "cell_type": "markdown",
   "metadata": {},
   "source": [
    "### Gauss-Seidel Method for Solving Linear Systems\n",
    "\n",
    "$$\n",
    "x_i^{(k+1)} = \\frac{b_i - \\sum_{j < i} A_{ij} \\cdot x_j^{(k+1)} - \\sum_{j > i} A_{ij} \\cdot x_j^{(k)}}{A_{ii}}\n",
    "$$\n",
    "\n",
    "#### Convergence Criterion\n",
    "\n",
    "$$\n",
    "\\| x^{(k+1)} - x^{(k)} \\|_{\\infty} < \\text{tol}\n",
    "$$\n"
   ]
  }
 ],
 "metadata": {
  "language_info": {
   "name": "python"
  }
 },
 "nbformat": 4,
 "nbformat_minor": 2
}
